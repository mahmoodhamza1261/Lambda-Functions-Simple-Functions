{
  "nbformat": 4,
  "nbformat_minor": 0,
  "metadata": {
    "colab": {
      "provenance": []
    },
    "kernelspec": {
      "name": "python3",
      "display_name": "Python 3"
    },
    "language_info": {
      "name": "python"
    }
  },
  "cells": [
    {
      "cell_type": "markdown",
      "source": [
        " Write a lambda function that takes a number and returns its square. Test it with the\n",
        "number 5."
      ],
      "metadata": {
        "id": "hVDSTW0Banpc"
      }
    },
    {
      "cell_type": "code",
      "source": [
        "square=lambda x:x**2\n",
        "square(5)"
      ],
      "metadata": {
        "colab": {
          "base_uri": "https://localhost:8080/"
        },
        "id": "8VC111-XbQWt",
        "outputId": "6b30bfd7-070d-4005-ebb1-9bd0e095304d"
      },
      "execution_count": 20,
      "outputs": [
        {
          "output_type": "execute_result",
          "data": {
            "text/plain": [
              "25"
            ]
          },
          "metadata": {},
          "execution_count": 20
        }
      ]
    },
    {
      "cell_type": "markdown",
      "source": [
        " Write a lambda function that takes two numbers and returns their product. Test it with the\n",
        "numbers 4 and 5."
      ],
      "metadata": {
        "id": "ls6aF9jMaplH"
      }
    },
    {
      "cell_type": "code",
      "source": [
        "product=lambda x,y:x*y\n",
        "product(4,5)"
      ],
      "metadata": {
        "colab": {
          "base_uri": "https://localhost:8080/"
        },
        "id": "UM46qbHbbWo3",
        "outputId": "de01974c-9f9f-47de-ce8c-b51abdec1b60"
      },
      "execution_count": 21,
      "outputs": [
        {
          "output_type": "execute_result",
          "data": {
            "text/plain": [
              "20"
            ]
          },
          "metadata": {},
          "execution_count": 21
        }
      ]
    },
    {
      "cell_type": "markdown",
      "source": [
        " Given a list of tuples where each tuple contains a name and age, use sorted and a\n",
        "lambda function to sort the list by age. Example list: [(&quot;Alice&quot;, 30), (&quot;Bob&quot;, 25),\n",
        "(&quot;Charlie&quot;, 35)]."
      ],
      "metadata": {
        "id": "HwBgIJQkatEP"
      }
    },
    {
      "cell_type": "code",
      "source": [
        "sorted_list=[(\"Alice\", 30), (\"Bob\", 25), (\"Charlie\", 35)]\n",
        "sorted_list.sort(key=lambda x:x[1])\n",
        "sorted_list"
      ],
      "metadata": {
        "colab": {
          "base_uri": "https://localhost:8080/"
        },
        "id": "nCp7JDN9bbMX",
        "outputId": "e4d4f0e4-8001-496e-aad0-8188e8c24ee1"
      },
      "execution_count": 22,
      "outputs": [
        {
          "output_type": "execute_result",
          "data": {
            "text/plain": [
              "[('Bob', 25), ('Alice', 30), ('Charlie', 35)]"
            ]
          },
          "metadata": {},
          "execution_count": 22
        }
      ]
    },
    {
      "cell_type": "markdown",
      "source": [
        "Write a lambda function that takes a string and returns it in uppercase. Test it with the\n",
        "string &quot;hello world&quot;."
      ],
      "metadata": {
        "id": "_DkpLL6bauyv"
      }
    },
    {
      "cell_type": "code",
      "source": [
        "string=lambda x:x.upper()\n",
        "string(\"hello world\")"
      ],
      "metadata": {
        "colab": {
          "base_uri": "https://localhost:8080/",
          "height": 36
        },
        "id": "biI2NNyCb5-V",
        "outputId": "c1750782-e1ca-4613-bab2-ca7f10e5c85c"
      },
      "execution_count": 23,
      "outputs": [
        {
          "output_type": "execute_result",
          "data": {
            "text/plain": [
              "'HELLO WORLD'"
            ],
            "application/vnd.google.colaboratory.intrinsic+json": {
              "type": "string"
            }
          },
          "metadata": {},
          "execution_count": 23
        }
      ]
    },
    {
      "cell_type": "markdown",
      "source": [
        "Write a lambda function that takes a number and returns &quot;Even&quot; if the number is even,\n",
        "and &quot;Odd&quot; if the number is odd. Test it with the number 3."
      ],
      "metadata": {
        "id": "SoanEmP9awcg"
      }
    },
    {
      "cell_type": "code",
      "source": [
        "number=lambda x:\"Even\" if x%2==0 else \"Odd\"\n",
        "number(3)"
      ],
      "metadata": {
        "colab": {
          "base_uri": "https://localhost:8080/",
          "height": 36
        },
        "id": "WVL83Qthb_c1",
        "outputId": "44b259e4-fa1f-420b-f910-532efedc96b5"
      },
      "execution_count": 24,
      "outputs": [
        {
          "output_type": "execute_result",
          "data": {
            "text/plain": [
              "'Odd'"
            ],
            "application/vnd.google.colaboratory.intrinsic+json": {
              "type": "string"
            }
          },
          "metadata": {},
          "execution_count": 24
        }
      ]
    },
    {
      "cell_type": "markdown",
      "source": [
        "Write a function called greet that prints &quot;Hello, World!&quot;."
      ],
      "metadata": {
        "id": "OT5Ajtm1ayaX"
      }
    },
    {
      "cell_type": "code",
      "source": [
        "def greet():\n",
        "  print(\"Hello, World!\")\n",
        "greet()"
      ],
      "metadata": {
        "colab": {
          "base_uri": "https://localhost:8080/"
        },
        "id": "Pd11-IZacLVD",
        "outputId": "84fdfa39-230c-44f0-ff85-3137368fc420"
      },
      "execution_count": 27,
      "outputs": [
        {
          "output_type": "stream",
          "name": "stdout",
          "text": [
            "Hello, World!\n"
          ]
        }
      ]
    },
    {
      "cell_type": "markdown",
      "source": [
        "Write a function called add that takes two parameters and prints their sum.\n",
        " Write a function called print_info that takes a name and an age as parameters and prints\n",
        "them in the format &quot;Name: [name], Age: [age]&quot;."
      ],
      "metadata": {
        "id": "PafT1qfAa0oG"
      }
    },
    {
      "cell_type": "code",
      "source": [
        "def add(x,y):\n",
        "  print(x+y)\n",
        "add(2,3)\n",
        "def print_info(name,age):\n",
        "  print(f\"Name: [{name}], Age: [{age}]\")\n",
        "print_info(\"Ali\",22)"
      ],
      "metadata": {
        "colab": {
          "base_uri": "https://localhost:8080/"
        },
        "id": "ytQc-AokcU2q",
        "outputId": "e5de6db4-8b98-4c4b-d1ba-5a629cc5517e"
      },
      "execution_count": 31,
      "outputs": [
        {
          "output_type": "stream",
          "name": "stdout",
          "text": [
            "5\n",
            "Name: [Ali], Age: [22]\n"
          ]
        }
      ]
    },
    {
      "cell_type": "markdown",
      "source": [
        "Write a function called multiply that takes two numbers as parameters and returns their\n",
        "product.\n",
        " Write a function called is_even that takes a number as a parameter and returns True if the\n",
        "number is even and False if it is odd."
      ],
      "metadata": {
        "id": "bhYobwAla2lf"
      }
    },
    {
      "cell_type": "code",
      "source": [
        "def multiply(x,y):\n",
        "  return x*y\n",
        "multiply(2,3)\n",
        "def is_even(x):\n",
        "  return x%2==0\n",
        "is_even(3)"
      ],
      "metadata": {
        "colab": {
          "base_uri": "https://localhost:8080/"
        },
        "id": "nH_y_1OJc0I4",
        "outputId": "290cfde9-d42f-4e5c-edca-d6fc045a1c6c"
      },
      "execution_count": 32,
      "outputs": [
        {
          "output_type": "execute_result",
          "data": {
            "text/plain": [
              "False"
            ]
          },
          "metadata": {},
          "execution_count": 32
        }
      ]
    },
    {
      "cell_type": "markdown",
      "source": [
        "Write a function called outer_function that defines a variable inside it, then defines and\n",
        "calls an inner function that prints the variable.\n",
        " Write a script to demonstrate the difference between local and global variables by\n",
        "defining a global variable, modifying it inside a function, and printing it both inside and\n",
        "outside the function."
      ],
      "metadata": {
        "id": "adXOPfPxa44p"
      }
    },
    {
      "cell_type": "code",
      "source": [
        "def outer_function():\n",
        "  x=5\n",
        "  print(x)\n",
        "  def inner_function():\n",
        "    x=6\n",
        "    print(x)\n",
        "  inner_function()\n",
        "outer_function()"
      ],
      "metadata": {
        "colab": {
          "base_uri": "https://localhost:8080/"
        },
        "id": "aYfGbm1dc9bO",
        "outputId": "0b562ba5-6311-49bd-8c3e-61fc2f5663eb"
      },
      "execution_count": 36,
      "outputs": [
        {
          "output_type": "stream",
          "name": "stdout",
          "text": [
            "5\n",
            "6\n"
          ]
        }
      ]
    },
    {
      "cell_type": "markdown",
      "source": [
        "Write a function called greet_person that takes a name as a parameter and prints &quot;Hello,\n",
        "[name]&quot;. If no name is provided, it should default to &quot;Guest&quot;.\n",
        " Write a function called power that takes two numbers as parameters and returns the first\n",
        "number raised to the power of the second number. If the second number is not provided,\n",
        "it should default to 2."
      ],
      "metadata": {
        "id": "jrMiYv6na7IK"
      }
    },
    {
      "cell_type": "code",
      "source": [
        "def greet_person(name=\"Guest\"):\n",
        "  print(f\"Hello, {name}\")\n",
        "greet_person(\"Ali\")\n",
        "greet_person()\n",
        "def power(x,y=2):\n",
        "  return x**y\n",
        "power(2)"
      ],
      "metadata": {
        "colab": {
          "base_uri": "https://localhost:8080/"
        },
        "id": "beSZvYR9dXWO",
        "outputId": "1b9cb5d2-c29a-4276-a338-3a92306bf36b"
      },
      "execution_count": 37,
      "outputs": [
        {
          "output_type": "stream",
          "name": "stdout",
          "text": [
            "Hello, Ali\n",
            "Hello, Guest\n"
          ]
        },
        {
          "output_type": "execute_result",
          "data": {
            "text/plain": [
              "4"
            ]
          },
          "metadata": {},
          "execution_count": 37
        }
      ]
    },
    {
      "cell_type": "markdown",
      "source": [
        "Write a function called describe_pet that takes two parameters: a pet&#39;s name and a pet&#39;s\n",
        "type. Use positional arguments to call the function with &quot;Buddy&quot; and &quot;dog&quot;, and keyword\n",
        "arguments to call the function with &quot;cat&quot; and &quot;Whiskers&quot;.\n",
        " Write a function called make_sandwich that takes three ingredients as parameters and\n",
        "prints the sandwich&#39;s ingredients in the format &quot;Sandwich with [ingredient1],\n",
        "[ingredient2], and [ingredient3]&quot;. Call the function using both positional and keyword\n",
        "arguments."
      ],
      "metadata": {
        "id": "qYZoepdwa9Hh"
      }
    },
    {
      "cell_type": "code",
      "source": [
        "def describe_pet(name,type):\n",
        "  print(f\"{name} is a {type}\")\n",
        "describe_pet(\"Buddy\",\"dog\")\n",
        "describe_pet(name=\"cat\",type=\"Whiskers\")\n",
        "def make_sandwich(ingredient1,ingredient2,ingredient3):\n",
        "  print(f\"Sandwich with {ingredient1}, {ingredient2}, and {ingredient3}\")\n",
        "make_sandwich(\"lettuce\",\"tomato\",\"bread\")\n",
        "make_sandwich(ingredient1=\"lettuce\",ingredient2=\"tomato\",ingredient3=\"bread\")"
      ],
      "metadata": {
        "colab": {
          "base_uri": "https://localhost:8080/"
        },
        "id": "Qq5nm5MYdh_0",
        "outputId": "b597f30a-2e59-475e-aa0b-c469f1db5a27"
      },
      "execution_count": 38,
      "outputs": [
        {
          "output_type": "stream",
          "name": "stdout",
          "text": [
            "Buddy is a dog\n",
            "cat is a Whiskers\n",
            "Sandwich with lettuce, tomato, and bread\n",
            "Sandwich with lettuce, tomato, and bread\n"
          ]
        }
      ]
    },
    {
      "cell_type": "markdown",
      "source": [
        "Write a function called sum_numbers that takes any number of numerical arguments and\n",
        "returns their sum.\n",
        " Write a function called display_students that takes a course name and any number of\n",
        "student names, and prints the course name followed by the list of student names."
      ],
      "metadata": {
        "id": "2wurcio_a_lZ"
      }
    },
    {
      "cell_type": "code",
      "source": [
        "def sum_numbers(*args):\n",
        "  return sum(args)\n",
        "\n",
        "def display_students(course_name,*args):\n",
        "  print(course_name)\n",
        "  print(args)\n",
        "\n",
        "display_students(\"math\",1,2,3,4,5)\n",
        "sum_numbers(1,2,3,4,5)"
      ],
      "metadata": {
        "colab": {
          "base_uri": "https://localhost:8080/"
        },
        "id": "OqiDQS6Gd_jR",
        "outputId": "682cec7e-4072-4e29-c12f-491bda06039a"
      },
      "execution_count": 44,
      "outputs": [
        {
          "output_type": "stream",
          "name": "stdout",
          "text": [
            "math\n",
            "(1, 2, 3, 4, 5)\n"
          ]
        },
        {
          "output_type": "execute_result",
          "data": {
            "text/plain": [
              "15"
            ]
          },
          "metadata": {},
          "execution_count": 44
        }
      ]
    },
    {
      "cell_type": "markdown",
      "source": [
        "Scenario: You have a list of tuples where each tuple contains a student&#39;s name and their\n",
        "grades in three subjects.\n",
        "o Example: students = [(&quot;Alice&quot;, [85, 90, 92]), (&quot;Bob&quot;, [78, 81, 85]), (&quot;Charlie&quot;,\n",
        "[92, 88, 91])]\n",
        "\n",
        " Tasks:\n",
        "1. Write a function to calculate the average grade for each student.\n",
        "\n",
        "2. Write a function to find the student with the highest average grade.\n",
        "3. Write a function to find the student with the lowest average grade.\n",
        "4. Write a function to add a new student with their grades to the list."
      ],
      "metadata": {
        "id": "t17vC2eybBex"
      }
    },
    {
      "cell_type": "code",
      "source": [
        "list_of_tuples = [(\"Alice\", [85, 90, 92]), (\"Bob\", [78, 81, 85]), (\"Charlie\", [92, 88, 91])]\n",
        "def average_grade(grades):\n",
        "  return sum(grades)/len(grades)\n",
        "def highest_average_grade(list_of_tuples):\n",
        "  highest_average=0\n",
        "  for name,grades in list_of_tuples:\n",
        "    if average_grade(grades)>highest_average:\n",
        "      highest_average=average_grade(grades)\n",
        "      highest_average_name=name\n",
        "  return highest_average_name\n",
        "def lowest_average_grade(list_of_tuples):\n",
        "  lowest_average=100\n",
        "  for name,grades in list_of_tuples:\n",
        "    if average_grade(grades)<lowest_average:\n",
        "      lowest_average=average_grade(grades)\n",
        "      lowest_average_name=name\n",
        "  return lowest_average_name\n",
        "\n",
        "def add_new_student(list_of_tuples,name,grades):\n",
        "  list_of_tuples.append((name,grades))\n",
        "  return list_of_tuples\n",
        "for name, grades in list_of_tuples:\n",
        "    avg_grade = average_grade(grades)\n",
        "    print(f\"Average grade for {name}: {avg_grade}\")\n",
        "print(highest_average_grade(list_of_tuples))\n",
        "print(lowest_average_grade(list_of_tuples))\n",
        "print(add_new_student(list_of_tuples,\"Ali\",[85, 90, 92]))"
      ],
      "metadata": {
        "colab": {
          "base_uri": "https://localhost:8080/"
        },
        "id": "FoLnc3eFeflR",
        "outputId": "e1e760ca-fce4-46c5-fb4b-09a71c82d65d"
      },
      "execution_count": 50,
      "outputs": [
        {
          "output_type": "stream",
          "name": "stdout",
          "text": [
            "Average grade for Alice: 89.0\n",
            "Average grade for Bob: 81.33333333333333\n",
            "Average grade for Charlie: 90.33333333333333\n",
            "Charlie\n",
            "Bob\n",
            "[('Alice', [85, 90, 92]), ('Bob', [78, 81, 85]), ('Charlie', [92, 88, 91]), ('Ali', [85, 90, 92])]\n"
          ]
        }
      ]
    },
    {
      "cell_type": "markdown",
      "source": [
        " Scenario: You have a dictionary representing an inventory of products where the keys\n",
        "are product names and the values are tuples containing the price and the stock quantity.\n",
        "o Example: inventory = {&quot;apple&quot;: (0.5, 100), &quot;banana&quot;: (0.3, 150), &quot;orange&quot;: (0.7,\n",
        "120)}\n",
        " Tasks:\n",
        "1. Write a function to add a new product to the inventory.\n",
        "2. Write a function to update the price and stock quantity of an existing product.\n",
        "3. Write a function to calculate the total value of the inventory (price * quantity for each\n",
        "product).\n",
        "4. Write a function to find the product with the highest stock quantity."
      ],
      "metadata": {
        "id": "BzuT2v8nbEfp"
      }
    },
    {
      "cell_type": "code",
      "source": [
        "inventory={\"apple\": (0.5, 100), \"banana\": (0.3, 150), \"orange\": (0.7, 120)}\n",
        "def add_new_product(inventory,name,price,quantity):\n",
        "  inventory[name]=(price,quantity)\n",
        "  return inventory\n",
        "def update_price_quantity(inventory,name,price,quantity):\n",
        "  inventory[name]=(price,quantity)\n",
        "  return inventory\n",
        "def total_value_of_inventory(inventory):\n",
        "  total_value=0\n",
        "  for price,quantity in inventory.values():\n",
        "    total_value+=price*quantity\n",
        "  return total_value\n",
        "def product_with_highest_stock_quantity(inventory):\n",
        "  highest_stock_quantity=0\n",
        "  for name,price_quantity in inventory.items():\n",
        "    if price_quantity[1]>highest_stock_quantity:\n",
        "      highest_stock_quantity=price_quantity[1]\n",
        "      highest_stock_quantity_name=name\n",
        "    return highest_stock_quantity_name\n",
        "print(add_new_product(inventory,\"kiwi\",0.2,200))\n",
        "print(update_price_quantity(inventory,\"kiwi\",0.25,250))\n",
        "print(total_value_of_inventory(inventory))\n",
        "print(product_with_highest_stock_quantity(inventory))"
      ],
      "metadata": {
        "colab": {
          "base_uri": "https://localhost:8080/"
        },
        "id": "4v9KxcoJh7cC",
        "outputId": "63ec6b02-19f9-492a-abf2-6d449e11d916"
      },
      "execution_count": 53,
      "outputs": [
        {
          "output_type": "stream",
          "name": "stdout",
          "text": [
            "{'apple': (0.5, 100), 'banana': (0.3, 150), 'orange': (0.7, 120), 'kiwi': (0.2, 200)}\n",
            "{'apple': (0.5, 100), 'banana': (0.3, 150), 'orange': (0.7, 120), 'kiwi': (0.25, 250)}\n",
            "241.5\n",
            "apple\n"
          ]
        }
      ]
    },
    {
      "cell_type": "markdown",
      "source": [
        "Scenario: You have a list of dictionaries where each dictionary contains details of an\n",
        "employee: their name, age, department, and salary.\n",
        "o Example: employees = [{&quot;name&quot;: &quot;Alice&quot;, &quot;age&quot;: 30, &quot;department&quot;: &quot;HR&quot;,\n",
        "&quot;salary&quot;: 50000}, {&quot;name&quot;: &quot;Bob&quot;, &quot;age&quot;: 25, &quot;department&quot;: &quot;IT&quot;, &quot;salary&quot;:\n",
        "60000}, {&quot;name&quot;: &quot;Charlie&quot;, &quot;age&quot;: 35, &quot;department&quot;: &quot;Finance&quot;, &quot;salary&quot;:\n",
        "55000}]\n",
        " Tasks:\n",
        "1. Write a function to add a new employee to the list.\n",
        "2. Write a function to remove an employee from the list by their name.\n",
        "3. Write a function to find the average salary of employees in a specific department.\n",
        "4. Write a function to find the employee with the highest salary.\n",
        "5. Write a function to list all employees in a specific department."
      ],
      "metadata": {
        "id": "C2prJVHvbH3c"
      }
    },
    {
      "cell_type": "code",
      "source": [
        "employees=[{\"name\": \"Alice\", \"age\": 30, \"department\": \"HR\", \"salary\": 50000}, {\"name\": \"Bob\", \"age\": 25, \"department\": \"IT\", \"salary\": 60000}, {\"name\": \"Charlie\", \"age\": 35, \"department\": \"Finance\", \"salary\": 55000}]\n",
        "def add_employee(employees,name,age,department,salary):\n",
        "  employees.append({\"name\": name, \"age\": age, \"department\": department, \"salary\": salary})\n",
        "  return employees\n",
        "def remove_employee(employees,name):\n",
        "  for employee in employees:\n",
        "    if employee[\"name\"]==name:\n",
        "      employees.remove(employee)\n",
        "  return employees\n",
        "def avg_salary_of_employees(employees):\n",
        "  total_salary=0\n",
        "  for employee in employees:\n",
        "    total_salary+=employee[\"salary\"]\n",
        "  return total_salary/len(employees)\n",
        "def employee_with_highest_salary(employees):\n",
        "  highest_salary=0\n",
        "  for employee in employees:\n",
        "    if employee[\"salary\"]>highest_salary:\n",
        "      highest_salary=employee[\"salary\"]\n",
        "      highest_salary_name=employee[\"name\"]\n",
        "      return highest_salary_name\n",
        "def list_of_employees_with_specific_department(employees):\n",
        "  for employee in employees:\n",
        "    if employee[\"department\"]==\"HR\":\n",
        "      print(employee[\"name\"])\n",
        "\n",
        "print(add_employee(employees,\"Ali\",22,\"HR\",50000))\n",
        "print(remove_employee(employees,\"Ali\"))\n",
        "print(avg_salary_of_employees(employees))\n",
        "print(employee_with_highest_salary(employees))"
      ],
      "metadata": {
        "colab": {
          "base_uri": "https://localhost:8080/"
        },
        "id": "FcXehMNYjEDB",
        "outputId": "85e63854-8858-42c4-d581-cb72dbc0bae6"
      },
      "execution_count": 55,
      "outputs": [
        {
          "output_type": "stream",
          "name": "stdout",
          "text": [
            "[{'name': 'Alice', 'age': 30, 'department': 'HR', 'salary': 50000}, {'name': 'Bob', 'age': 25, 'department': 'IT', 'salary': 60000}, {'name': 'Charlie', 'age': 35, 'department': 'Finance', 'salary': 55000}, {'name': 'Ali', 'age': 22, 'department': 'HR', 'salary': 50000}]\n",
            "[{'name': 'Alice', 'age': 30, 'department': 'HR', 'salary': 50000}, {'name': 'Bob', 'age': 25, 'department': 'IT', 'salary': 60000}, {'name': 'Charlie', 'age': 35, 'department': 'Finance', 'salary': 55000}]\n",
            "55000.0\n",
            "Alice\n"
          ]
        }
      ]
    },
    {
      "cell_type": "markdown",
      "source": [
        " Scenario: You have a dictionary where the keys are genres and the values are lists of\n",
        "tuples, each containing a book title and its author.\n",
        "o Example: books = {&quot;Science Fiction&quot;: [(&quot;Dune&quot;, &quot;Frank Herbert&quot;),\n",
        "(&quot;Neuromancer&quot;, &quot;William Gibson&quot;)], &quot;Fantasy&quot;: [(&quot;The Hobbit&quot;, &quot;J.R.R.\n",
        "Tolkien&quot;), (&quot;Harry Potter&quot;, &quot;J.K. Rowling&quot;)]}\n",
        "\n",
        " Tasks:\n",
        "1. Write a function to add a new book to a genre.\n",
        "\n",
        "2. Write a function to remove a book from a genre.\n",
        "3. Write a function to find all books by a specific author across all genres.\n",
        "4. Write a function to list all books in a specific genre.\n",
        "5. Write a function to count the total number of books in the collection."
      ],
      "metadata": {
        "id": "T7jf2aRlbKcl"
      }
    },
    {
      "cell_type": "code",
      "source": [
        "books = {\"Science Fiction\": [(\"Dune\", \"Frank Herbert\"), (\"Neuromancer\", \"William Gibson\")], \"Fantasy\": [(\"The Hobbit\", \"J.R.R. Tolkien\"), (\"Harry Potter\", \"J.K. Rowling\")]}\n",
        "def add_new_book(books,genre,title,author):\n",
        "  books[genre].append((title,author))\n",
        "  return books\n",
        "def remove_book(books,genre,title):\n",
        "  for book in books[genre]:\n",
        "    if book[0]==title:\n",
        "      books[genre].remove(book)\n",
        "  return books\n",
        "def all_books_by_specific_author(books,author):\n",
        "  for genre,books_list in books.items():\n",
        "    for book in books_list:\n",
        "      if book[1]==author:\n",
        "        print(book[0])\n",
        "        print(genre)\n",
        "def list_of_books_in_specific_genre(books,genre):\n",
        "  for book in books[genre]:\n",
        "    print(book[0])\n",
        "    print(book[1])\n",
        "def total_number_of_books(books):\n",
        "  total_books=0\n",
        "  for genre,books_list in books.items():\n",
        "    total_books+=len(books_list)\n",
        "  return total_books\n",
        "print(add_new_book(books,\"Science Fiction\",\"The Martian\",\"Andy Weir\"))\n",
        "print(remove_book(books,\"Science Fiction\",\"The Martian\"))\n",
        "print(all_books_by_specific_author(books,\"Frank Herbert\"))\n",
        "print(list_of_books_in_specific_genre(books,\"Science Fiction\"))\n",
        "print(total_number_of_books(books))"
      ],
      "metadata": {
        "colab": {
          "base_uri": "https://localhost:8080/"
        },
        "id": "i1BCmYsckE7O",
        "outputId": "7c3d12b3-7c71-4c77-9343-ad6e52efe125"
      },
      "execution_count": 57,
      "outputs": [
        {
          "output_type": "stream",
          "name": "stdout",
          "text": [
            "{'Science Fiction': [('Dune', 'Frank Herbert'), ('Neuromancer', 'William Gibson'), ('The Martian', 'Andy Weir')], 'Fantasy': [('The Hobbit', 'J.R.R. Tolkien'), ('Harry Potter', 'J.K. Rowling')]}\n",
            "{'Science Fiction': [('Dune', 'Frank Herbert'), ('Neuromancer', 'William Gibson')], 'Fantasy': [('The Hobbit', 'J.R.R. Tolkien'), ('Harry Potter', 'J.K. Rowling')]}\n",
            "Dune\n",
            "Science Fiction\n",
            "None\n",
            "Dune\n",
            "Frank Herbert\n",
            "Neuromancer\n",
            "William Gibson\n",
            "None\n",
            "4\n"
          ]
        }
      ]
    },
    {
      "cell_type": "markdown",
      "source": [
        "Scenario: You have a dictionary where the keys are movie titles and the values are lists\n",
        "of tuples, each containing a reviewer&#39;s name and their rating for the movie.\n",
        "o Example: movies = {&quot;Inception&quot;: [(&quot;Alice&quot;, 9), (&quot;Bob&quot;, 8)], &quot;Titanic&quot;: [(&quot;Alice&quot;,\n",
        "7), (&quot;Charlie&quot;, 8)]}\n",
        "\n",
        " Tasks:\n",
        "1. Write a function to add a new rating for a movie.\n",
        "2. Write a function to update an existing rating for a movie.\n",
        "3. Write a function to calculate the average rating for a movie.\n",
        "4. Write a function to find the movie with the highest average rating.\n",
        "5. Write a function to list all movies reviewed by a specific reviewer."
      ],
      "metadata": {
        "id": "PWm4LX0lbMxc"
      }
    },
    {
      "cell_type": "code",
      "source": [
        "movies = {\"Inception\": [(\"Alice\", 9), (\"Bob\", 8)], \"Titanic\": [(\"Alice\", 7), (\"Charlie\", 8)]}\n",
        "def add_new_rating(movies,title,reviewer,rating):\n",
        "  movies[title].append((reviewer,rating))\n",
        "  return movies\n",
        "def update_existing_rating(movies,title,reviewer,rating):\n",
        "  for movie in movies[title]:\n",
        "    if movie[0]==reviewer:\n",
        "      movie[1]=rating\n",
        "      return movies\n",
        "def average_rating(movies,title):\n",
        "  total_rating=0\n",
        "  for movie in movies[title]:\n",
        "    total_rating+=movie[1]\n",
        "  return total_rating/len(movies[title])\n",
        "def movie_with_highest_average_rating(movies):\n",
        "  highest_average=0\n",
        "  for title,ratings in movies.items():\n",
        "    if average_rating(movies,title)>highest_average:\n",
        "      highest_average=average_rating(movies,title)\n",
        "      highest_average_title=title\n",
        "  return highest_average_title\n",
        "\n",
        "def list_of_movies_reviewed_by_specific_reviewer(movies,reviewer):\n",
        "  for title,ratings in movies.items():\n",
        "    for rating in ratings:\n",
        "      if rating[0]==reviewer:\n",
        "        print(title)\n",
        "print(add_new_rating(movies,\"Inception\",\"Ali\",10))\n",
        "print(update_existing_rating(movies,\"Inception\",\"Ali\",9))\n",
        "print(average_rating(movies,\"Inception\"))\n",
        "print(movie_with_highest_average_rating(movies))\n",
        "print(list_of_movies_reviewed_by_specific_reviewer(movies,\"Alice\"))"
      ],
      "metadata": {
        "colab": {
          "base_uri": "https://localhost:8080/",
          "height": 349
        },
        "id": "LIpBSJEskq1I",
        "outputId": "f1fc78df-3c29-4230-8e39-a7c81c5d6efd"
      },
      "execution_count": 62,
      "outputs": [
        {
          "output_type": "stream",
          "name": "stdout",
          "text": [
            "{'Inception': [('Alice', 9), ('Bob', 8), ('Ali', 10)], 'Titanic': [('Alice', 7), ('Charlie', 8)]}\n"
          ]
        },
        {
          "output_type": "error",
          "ename": "TypeError",
          "evalue": "'tuple' object does not support item assignment",
          "traceback": [
            "\u001b[0;31m---------------------------------------------------------------------------\u001b[0m",
            "\u001b[0;31mTypeError\u001b[0m                                 Traceback (most recent call last)",
            "\u001b[0;32m<ipython-input-62-894d5fe901c5>\u001b[0m in \u001b[0;36m<cell line: 29>\u001b[0;34m()\u001b[0m\n\u001b[1;32m     27\u001b[0m         \u001b[0mprint\u001b[0m\u001b[0;34m(\u001b[0m\u001b[0mtitle\u001b[0m\u001b[0;34m)\u001b[0m\u001b[0;34m\u001b[0m\u001b[0;34m\u001b[0m\u001b[0m\n\u001b[1;32m     28\u001b[0m \u001b[0mprint\u001b[0m\u001b[0;34m(\u001b[0m\u001b[0madd_new_rating\u001b[0m\u001b[0;34m(\u001b[0m\u001b[0mmovies\u001b[0m\u001b[0;34m,\u001b[0m\u001b[0;34m\"Inception\"\u001b[0m\u001b[0;34m,\u001b[0m\u001b[0;34m\"Ali\"\u001b[0m\u001b[0;34m,\u001b[0m\u001b[0;36m10\u001b[0m\u001b[0;34m)\u001b[0m\u001b[0;34m)\u001b[0m\u001b[0;34m\u001b[0m\u001b[0;34m\u001b[0m\u001b[0m\n\u001b[0;32m---> 29\u001b[0;31m \u001b[0mprint\u001b[0m\u001b[0;34m(\u001b[0m\u001b[0mupdate_existing_rating\u001b[0m\u001b[0;34m(\u001b[0m\u001b[0mmovies\u001b[0m\u001b[0;34m,\u001b[0m\u001b[0;34m\"Inception\"\u001b[0m\u001b[0;34m,\u001b[0m\u001b[0;34m\"Ali\"\u001b[0m\u001b[0;34m,\u001b[0m\u001b[0;36m9\u001b[0m\u001b[0;34m)\u001b[0m\u001b[0;34m)\u001b[0m\u001b[0;34m\u001b[0m\u001b[0;34m\u001b[0m\u001b[0m\n\u001b[0m\u001b[1;32m     30\u001b[0m \u001b[0mprint\u001b[0m\u001b[0;34m(\u001b[0m\u001b[0maverage_rating\u001b[0m\u001b[0;34m(\u001b[0m\u001b[0mmovies\u001b[0m\u001b[0;34m,\u001b[0m\u001b[0;34m\"Inception\"\u001b[0m\u001b[0;34m)\u001b[0m\u001b[0;34m)\u001b[0m\u001b[0;34m\u001b[0m\u001b[0;34m\u001b[0m\u001b[0m\n\u001b[1;32m     31\u001b[0m \u001b[0mprint\u001b[0m\u001b[0;34m(\u001b[0m\u001b[0mmovie_with_highest_average_rating\u001b[0m\u001b[0;34m(\u001b[0m\u001b[0mmovies\u001b[0m\u001b[0;34m)\u001b[0m\u001b[0;34m)\u001b[0m\u001b[0;34m\u001b[0m\u001b[0;34m\u001b[0m\u001b[0m\n",
            "\u001b[0;32m<ipython-input-62-894d5fe901c5>\u001b[0m in \u001b[0;36mupdate_existing_rating\u001b[0;34m(movies, title, reviewer, rating)\u001b[0m\n\u001b[1;32m      6\u001b[0m   \u001b[0;32mfor\u001b[0m \u001b[0mmovie\u001b[0m \u001b[0;32min\u001b[0m \u001b[0mmovies\u001b[0m\u001b[0;34m[\u001b[0m\u001b[0mtitle\u001b[0m\u001b[0;34m]\u001b[0m\u001b[0;34m:\u001b[0m\u001b[0;34m\u001b[0m\u001b[0;34m\u001b[0m\u001b[0m\n\u001b[1;32m      7\u001b[0m     \u001b[0;32mif\u001b[0m \u001b[0mmovie\u001b[0m\u001b[0;34m[\u001b[0m\u001b[0;36m0\u001b[0m\u001b[0;34m]\u001b[0m\u001b[0;34m==\u001b[0m\u001b[0mreviewer\u001b[0m\u001b[0;34m:\u001b[0m\u001b[0;34m\u001b[0m\u001b[0;34m\u001b[0m\u001b[0m\n\u001b[0;32m----> 8\u001b[0;31m       \u001b[0mmovie\u001b[0m\u001b[0;34m[\u001b[0m\u001b[0;36m1\u001b[0m\u001b[0;34m]\u001b[0m\u001b[0;34m=\u001b[0m\u001b[0mrating\u001b[0m\u001b[0;34m\u001b[0m\u001b[0;34m\u001b[0m\u001b[0m\n\u001b[0m\u001b[1;32m      9\u001b[0m       \u001b[0;32mreturn\u001b[0m \u001b[0mmovies\u001b[0m\u001b[0;34m\u001b[0m\u001b[0;34m\u001b[0m\u001b[0m\n\u001b[1;32m     10\u001b[0m \u001b[0;32mdef\u001b[0m \u001b[0maverage_rating\u001b[0m\u001b[0;34m(\u001b[0m\u001b[0mmovies\u001b[0m\u001b[0;34m,\u001b[0m\u001b[0mtitle\u001b[0m\u001b[0;34m)\u001b[0m\u001b[0;34m:\u001b[0m\u001b[0;34m\u001b[0m\u001b[0;34m\u001b[0m\u001b[0m\n",
            "\u001b[0;31mTypeError\u001b[0m: 'tuple' object does not support item assignment"
          ]
        }
      ]
    },
    {
      "cell_type": "code",
      "source": [],
      "metadata": {
        "id": "s5ILcTOObO-H"
      },
      "execution_count": null,
      "outputs": []
    }
  ]
}